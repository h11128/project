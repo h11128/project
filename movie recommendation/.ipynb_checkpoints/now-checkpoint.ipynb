{
 "cells": [
  {
   "cell_type": "code",
   "execution_count": 3,
   "metadata": {},
   "outputs": [],
   "source": [
    "from numpy.random import *\n",
    "from matplotlib.pyplot import *\n",
    "import json\n",
    "import numpy as np\n",
    "import pandas as pd\n",
    "import matplotlib.pyplot as plt\n",
    "import csv\n",
    "from scipy import stats\n",
    "from sklearn import preprocessing\n",
    "import warnings\n",
    "warnings.filterwarnings(\"ignore\")\n",
    "\n"
   ]
  },
  {
   "cell_type": "code",
   "execution_count": 144,
   "metadata": {},
   "outputs": [],
   "source": [
    "def read_all(filename,num):\n",
    "    i = 0\n",
    "    data = []\n",
    "    with open(filename, 'r', encoding = 'utf-8') as rawdata:\n",
    "        for line in rawdata:\n",
    "            if i <num:\n",
    "                line = [x.strip('\\n') for x in line.split('\\t')]\n",
    "                data.append(line)\n",
    "                i+= 1\n",
    "            else:\n",
    "                break\n",
    "    data = np.asarray(data)\n",
    "    return data\n",
    "\n"
   ]
  },
  {
   "cell_type": "code",
   "execution_count": 155,
   "metadata": {},
   "outputs": [],
   "source": [
    "num = 10000\n",
    "basic = read_all(\"title.basics.tsv\",num)\n",
    "rating = read_all(\"title.ratings.tsv\",num)\n",
    "principals = read_all(\"title.principals.tsv\",num)\n",
    "crew = read_all(\"title.crew.tsv\",num)\n"
   ]
  },
  {
   "cell_type": "code",
   "execution_count": 166,
   "metadata": {},
   "outputs": [
    {
     "name": "stdout",
     "output_type": "stream",
     "text": [
      "['tconst' 'titleType' 'primaryTitle' 'originalTitle' 'isAdult' 'startYear'\n",
      " 'endYear' 'runtimeMinutes' 'genres' 'tconst' 'averageRating' 'numVotes'\n",
      " 'tconst' 'ordering' 'nconst' 'category' 'job' 'characters' 'tconst'\n",
      " 'directors' 'writers']\n"
     ]
    }
   ],
   "source": [
    "\n",
    "data = np.concatenate((basic,rating,principals,crew),axis=1)\n",
    "print(data[0])\n",
    "data = np.delete(data,[2,3,6,9,12,16,17,18],1)\n",
    "drop = []\n",
    "for i in range(len(data)):\n",
    "    if data[i][1] != 'titleType' and data[i][1] != 'movie':\n",
    "        drop.append(i)\n",
    "data = np.delete(data,[1],1)\n",
    "data = np.delete(data,drop,0)\n"
   ]
  },
  {
   "cell_type": "code",
   "execution_count": 184,
   "metadata": {},
   "outputs": [
    {
     "name": "stdout",
     "output_type": "stream",
     "text": [
      "[['genres'], ['Romance'], ['Documentary', 'News', 'Sport'], ['Biography', 'Drama'], ['\\\\N'], ['Biography', 'Crime', 'Drama'], ['Drama'], ['Drama'], ['Drama'], ['Drama'], ['Adventure', 'Fantasy'], ['Drama'], ['Drama'], ['\\\\N'], ['\\\\N'], ['\\\\N'], ['\\\\N'], ['\\\\N'], ['\\\\N'], ['\\\\N']]\n",
      "{'\\\\N': 0, 'genres': 0, 'Romance': 1, 'Documentary': 2, 'News': 3, 'Sport': 4, 'Biography': 5, 'Drama': 6, 'Crime': 7, 'Adventure': 8, 'Fantasy': 9, 'Comedy': 10, 'War': 11, 'Family': 12, 'History': 13, 'Sci-Fi': 14, 'Western': 15, 'Thriller': 16, 'Mystery': 17, 'Horror': 18, 'Action': 19, 'Music': 20, 'Short': 21, 'Animation': 22, 'Musical': 23}\n",
      "[0, 1, 234, 56, 0, 576, 6, 6, 6, 6, 89, 6, 6, 0, 0, 0, 0, 0, 0, 0]\n"
     ]
    }
   ],
   "source": [
    "genres = data[:,4].tolist()\n",
    "genres = [x.split(\",\") for x in genres]\n",
    "print(genres[0:20])\n",
    "genre = {} \n",
    "genre['\\\\N'] = 0\n",
    "k = 0\n",
    "new_genres = []\n",
    "for i in genres:\n",
    "    cc = \"\"\n",
    "    for j in i:\n",
    "        if j not in genre:\n",
    "            genre[j] = k\n",
    "            k+=1\n",
    "        cc+= str(genre[j])\n",
    "    new_genres.append(int(cc))\n",
    "print(genre)\n",
    "print(new_genres[0:20])        \n",
    "        \n"
   ]
  },
  {
   "cell_type": "code",
   "execution_count": null,
   "metadata": {},
   "outputs": [],
   "source": []
  }
 ],
 "metadata": {
  "kernelspec": {
   "display_name": "Python 3",
   "language": "python",
   "name": "python3"
  },
  "language_info": {
   "codemirror_mode": {
    "name": "ipython",
    "version": 3
   },
   "file_extension": ".py",
   "mimetype": "text/x-python",
   "name": "python",
   "nbconvert_exporter": "python",
   "pygments_lexer": "ipython3",
   "version": "3.6.5"
  }
 },
 "nbformat": 4,
 "nbformat_minor": 2
}
